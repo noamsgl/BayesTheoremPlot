{
  "cells": [
    {
      "cell_type": "code",
      "source": [
        "!pip install numpyro"
      ],
      "metadata": {
        "colab": {
          "base_uri": "https://localhost:8080/"
        },
        "id": "cHxqFbUHIH_8",
        "outputId": "cb0120b2-f147-497f-d741-3cb8ad5a2633"
      },
      "id": "cHxqFbUHIH_8",
      "execution_count": 1,
      "outputs": [
        {
          "output_type": "stream",
          "name": "stdout",
          "text": [
            "Looking in indexes: https://pypi.org/simple, https://us-python.pkg.dev/colab-wheels/public/simple/\n",
            "Collecting numpyro\n",
            "  Downloading numpyro-0.11.0-py3-none-any.whl (300 kB)\n",
            "\u001b[2K     \u001b[90m━━━━━━━━━━━━━━━━━━━━━━━━━━━━━━━━━━━━━━━\u001b[0m \u001b[32m300.2/300.2 kB\u001b[0m \u001b[31m5.4 MB/s\u001b[0m eta \u001b[36m0:00:00\u001b[0m\n",
            "\u001b[?25hRequirement already satisfied: jax>=0.4 in /usr/local/lib/python3.10/dist-packages (from numpyro) (0.4.8)\n",
            "Requirement already satisfied: tqdm in /usr/local/lib/python3.10/dist-packages (from numpyro) (4.65.0)\n",
            "Requirement already satisfied: multipledispatch in /usr/local/lib/python3.10/dist-packages (from numpyro) (0.6.0)\n",
            "Requirement already satisfied: numpy in /usr/local/lib/python3.10/dist-packages (from numpyro) (1.22.4)\n",
            "Requirement already satisfied: jaxlib>=0.4 in /usr/local/lib/python3.10/dist-packages (from numpyro) (0.4.7+cuda11.cudnn86)\n",
            "Requirement already satisfied: ml-dtypes>=0.0.3 in /usr/local/lib/python3.10/dist-packages (from jax>=0.4->numpyro) (0.1.0)\n",
            "Requirement already satisfied: scipy>=1.7 in /usr/local/lib/python3.10/dist-packages (from jax>=0.4->numpyro) (1.10.1)\n",
            "Requirement already satisfied: opt-einsum in /usr/local/lib/python3.10/dist-packages (from jax>=0.4->numpyro) (3.3.0)\n",
            "Requirement already satisfied: six in /usr/local/lib/python3.10/dist-packages (from multipledispatch->numpyro) (1.16.0)\n",
            "Installing collected packages: numpyro\n",
            "Successfully installed numpyro-0.11.0\n"
          ]
        }
      ]
    },
    {
      "cell_type": "markdown",
      "id": "e6c08925-8dcd-4ea9-85b7-e417c9abdc3e",
      "metadata": {
        "id": "e6c08925-8dcd-4ea9-85b7-e417c9abdc3e"
      },
      "source": [
        "# Bayesian Flow Tutorial: Part 1\n",
        "\n",
        "## Future:\n",
        "* (https://www.microsoft.com/en-us/research/publication/domain-knowledge-uncertainty-probabilistic-parameter-constraints/\n",
        "\n",
        "## Problem, Model, Inference\n"
      ]
    },
    {
      "cell_type": "markdown",
      "id": "bb5ce268-b247-4f06-ad2f-91039223ac0d",
      "metadata": {
        "id": "bb5ce268-b247-4f06-ad2f-91039223ac0d"
      },
      "source": [
        "## Problem: Estimating success probability of a robot\n",
        "\n",
        "Robot Alice can perform one action $A=\\{a\\}$ and can pass between three states $S=\\{s_{start}, s_{success}, s_{failure}\\}$. When the action is performed in state $s_{start}$, the robot passes to either $s_{success}$ or $s_{failure}$, in other states, the action has no effect.  We believe that there is a fixed probability $p$ with which the robot passes from $s_{start}$ to $_{success}$. In order to operate the robot, we want to estimate $p$.\n",
        "\n",
        "We operated the robot several times in state $s_{start}$, letting him to perform $a$, and got the following _sequence_ of outcomes: $[s_{success}, s_{failure}, s_{success}, s_{success}, s_{failure}, s_{success}, s_{success}, s_{success}, s_{failure}, s_{failure}]$. What can we say about $p$?"
      ]
    },
    {
      "cell_type": "markdown",
      "id": "b95aa848-e31b-43a3-b8c9-17576842c9b7",
      "metadata": {
        "id": "b95aa848-e31b-43a3-b8c9-17576842c9b7"
      },
      "source": [
        "Let's formalize. We have a vector $\\pmb{o}$ of observations (1 - success, 0 - failure)"
      ]
    },
    {
      "cell_type": "code",
      "execution_count": 2,
      "id": "c130dc05-37b0-47b7-b4c4-6eb2cbd4212f",
      "metadata": {
        "tags": [],
        "id": "c130dc05-37b0-47b7-b4c4-6eb2cbd4212f"
      },
      "outputs": [],
      "source": [
        "OBSERVATIONS = [1, 0, 1, 1, 0, 1, 1, 1, 0, 0]"
      ]
    },
    {
      "cell_type": "markdown",
      "id": "25cfa0a5-5f64-44b0-818e-333e62c99b34",
      "metadata": {
        "id": "25cfa0a5-5f64-44b0-818e-333e62c99b34"
      },
      "source": [
        "and a latent variable $p$  which affects the observations we get. We assume that observations are random, and we might have gotten a different sequence of successes and failures if we repeated the experiment. \n",
        "\n",
        "Looking at this the other way around, even if we new the 'true' $p$, we might get the _same_ observations for _different_ 'true' values of $p$, by chance. This means that we cannot be absolutely certain about the value of $p$ given a finite set of observations.\n",
        "\n",
        "So, the question is: _What is our belief about $p$ given the observations?_"
      ]
    },
    {
      "cell_type": "markdown",
      "id": "cc1b2309-a847-4595-a1e9-5c606c2e61b7",
      "metadata": {
        "id": "cc1b2309-a847-4595-a1e9-5c606c2e61b7"
      },
      "source": [
        "## Analytical solution\n",
        "\n",
        "This problem has an analytical solution called 'Beta-Binomial posterior', and it has the form:\n",
        "\n",
        "$$p \\sim \\mathrm{Beta}(1 + \\sum \\pmb{o}, 1 + \\sum \\neg \\pmb{o})$$\n",
        "\n",
        "for our observations,"
      ]
    },
    {
      "cell_type": "code",
      "execution_count": 3,
      "id": "63b37361-3d08-44b6-9dee-f4932f2323de",
      "metadata": {
        "tags": [],
        "colab": {
          "base_uri": "https://localhost:8080/"
        },
        "id": "63b37361-3d08-44b6-9dee-f4932f2323de",
        "outputId": "baf56cf3-661d-456c-f7dc-21113217a4a4"
      },
      "outputs": [
        {
          "output_type": "stream",
          "name": "stdout",
          "text": [
            "∑𝑜 = 6, ∑¬𝑜 = 4\n"
          ]
        }
      ],
      "source": [
        "print(f\"∑𝑜 = {sum(OBSERVATIONS)}, ∑¬𝑜 = {sum(not o for o in OBSERVATIONS)}\")"
      ]
    },
    {
      "cell_type": "markdown",
      "id": "08eded64-0b49-42d3-867a-bfb87ae42268",
      "metadata": {
        "id": "08eded64-0b49-42d3-867a-bfb87ae42268"
      },
      "source": [
        "And the solution is \n",
        "\n",
        "$p \\sim \\mathrm{Beta}(7, 5)$\n",
        "\n",
        "which we can plot and and summarize easily:"
      ]
    },
    {
      "cell_type": "code",
      "execution_count": 4,
      "id": "8efdf3d8-2a26-4a4b-9538-d540449aad8b",
      "metadata": {
        "id": "8efdf3d8-2a26-4a4b-9538-d540449aad8b"
      },
      "outputs": [],
      "source": [
        "import numpy\n",
        "import scipy\n",
        "import matplotlib.pyplot as plt"
      ]
    },
    {
      "cell_type": "code",
      "execution_count": 5,
      "id": "b2598352-09e7-4f70-9151-5daadff31140",
      "metadata": {
        "tags": [],
        "colab": {
          "base_uri": "https://localhost:8080/",
          "height": 582
        },
        "id": "b2598352-09e7-4f70-9151-5daadff31140",
        "outputId": "fc49dde1-2d2f-4670-cd83-07dcf2644b5f"
      },
      "outputs": [
        {
          "output_type": "execute_result",
          "data": {
            "text/plain": [
              "<matplotlib.legend.Legend at 0x7fa887e3f9a0>"
            ]
          },
          "metadata": {},
          "execution_count": 5
        },
        {
          "output_type": "display_data",
          "data": {
            "text/plain": [
              "<Figure size 1000x600 with 1 Axes>"
            ],
            "image/png": "[encoded data removed]"
          },
          "metadata": {}
        }
      ],
      "source": [
        "Dp = scipy.stats.beta(7, 5) \n",
        "plt.figure(figsize=(10, 6))\n",
        "height, _, _ = plt.hist(Dp.rvs(100000), histtype=\"step\", lw=2, bins=\"auto\", density=True)\n",
        "plt.xlabel(\"p\")\n",
        "plt.title(f\"mean={Dp.mean():.2f}, stddev={Dp.std():.2f}\")\n",
        "plt.axvline(Dp.mean(), ls=\"dashed\", color=\"red\", label=\"mean\")\n",
        "plt.fill_betweenx([0, height.max()], Dp.mean()-Dp.std(), Dp.mean() + Dp.std(),\n",
        "                  color=\"red\", alpha=0.2, label=\"67%\")\n",
        "plt.fill_betweenx([0, height.max()], Dp.mean()-2*Dp.std(), Dp.mean() + 2*Dp.std(),\n",
        "                  color=\"red\", alpha=0.1, label=\"95%\")\n",
        "plt.legend()"
      ]
    },
    {
      "cell_type": "markdown",
      "id": "df93a697-b780-4840-a9d3-2a076ef0360b",
      "metadata": {
        "id": "df93a697-b780-4840-a9d3-2a076ef0360b"
      },
      "source": [
        "$p$ is likely to be around 0.6, but can be anything from 0.35 to 0.85, with a reasonable probability.\n",
        "\n",
        "However, this analytical solution is not universal. It is only possible because\n",
        "\n",
        "1. We have a very simple model of the robot.\n",
        "1. We assume that we know nothing about $p$ before we run the robot (_uniform prior_).\n",
        "1. We assume that outcomes are independent and identically distributed.\n",
        "\n",
        "For anything just a little bit more complicated, we **will not** have an analytical solution and must use a numerical approximation. "
      ]
    },
    {
      "cell_type": "markdown",
      "id": "d08019ca-d434-4845-aac4-dd3339f4f49e",
      "metadata": {
        "id": "d08019ca-d434-4845-aac4-dd3339f4f49e"
      },
      "source": [
        "## Generative model\n",
        "\n",
        "For computing a numerical approximation, we need a model. Our approach is to specify a _generative model_, that is, a model that tells the story of the robot taking an action in the state. We will run _inference_ on the model to get an approximation of the _parameter posterior_, which is, in our case, our belief about the values of $p$.\n",
        "\n",
        "### $Model$\n",
        "\\begin{aligned}\n",
        "p & \\sim \\mathrm{Beta}(1, 1) \\\\\n",
        "o & \\sim \\mathrm{Bernoulli}(p),\\,\\mbox{for each}\\,o \\in \\pmb{o}\n",
        "\\end{aligned}\n",
        "\n",
        "The first line specifies the _prior belief_ about $p$. $\\mathrm{Beta}(1, 1)$ is a fancy way to say that $p$ is uniformly distributed between 0 and 1:"
      ]
    },
    {
      "cell_type": "markdown",
      "source": [],
      "metadata": {
        "id": "3Zx-oNrzIAT1"
      },
      "id": "3Zx-oNrzIAT1"
    },
    {
      "cell_type": "code",
      "execution_count": 6,
      "id": "fd646a73-e8f5-459f-b81d-d5c1ae76ab88",
      "metadata": {
        "tags": [],
        "colab": {
          "base_uri": "https://localhost:8080/",
          "height": 368
        },
        "id": "fd646a73-e8f5-459f-b81d-d5c1ae76ab88",
        "outputId": "8bd884cc-f725-4d5c-8b44-03da9707c2e5"
      },
      "outputs": [
        {
          "output_type": "display_data",
          "data": {
            "text/plain": [
              "<Figure size 1000x400 with 1 Axes>"
            ],
            "image/png": "[encoded data removed]"
          },
          "metadata": {}
        }
      ],
      "source": [
        "plt.figure(figsize=(10, 4))\n",
        "plt.hist(scipy.stats.beta(1, 1).rvs(100000), bins=\"auto\", density=True)\n",
        "_=_"
      ]
    },
    {
      "cell_type": "markdown",
      "id": "86a68946-8f5c-49a1-95c9-12dda36eb7c4",
      "metadata": {
        "id": "86a68946-8f5c-49a1-95c9-12dda36eb7c4"
      },
      "source": [
        "However, we could have chosen a more complex prior, provided we have a reason to. For example, we may believe that $p$ is likely to be around $0.6$ ($\\mathrm{Beta}(3, 2)$):"
      ]
    },
    {
      "cell_type": "code",
      "execution_count": 7,
      "id": "6b5852d4-8099-426a-b815-d6db1d4944ea",
      "metadata": {
        "tags": [],
        "colab": {
          "base_uri": "https://localhost:8080/",
          "height": 368
        },
        "id": "6b5852d4-8099-426a-b815-d6db1d4944ea",
        "outputId": "fdb27d61-e253-4c12-95de-0067529e94bf"
      },
      "outputs": [
        {
          "output_type": "display_data",
          "data": {
            "text/plain": [
              "<Figure size 1000x400 with 1 Axes>"
            ],
            "image/png": "[encoded data removed]"
          },
          "metadata": {}
        }
      ],
      "source": [
        "plt.figure(figsize=(10, 4))\n",
        "plt.hist(scipy.stats.beta(3, 2).rvs(100000), bins=\"auto\", density=True)\n",
        "_=_"
      ]
    },
    {
      "cell_type": "markdown",
      "id": "d49e0f6a-df8b-48bd-bb78-e9906591b6a2",
      "metadata": {
        "id": "d49e0f6a-df8b-48bd-bb78-e9906591b6a2"
      },
      "source": [
        "or even that most robots are dumb, but some are very smart:"
      ]
    },
    {
      "cell_type": "code",
      "execution_count": 8,
      "id": "52cb77fe-074c-4e0d-9ad5-20a99971afe7",
      "metadata": {
        "tags": [],
        "colab": {
          "base_uri": "https://localhost:8080/",
          "height": 368
        },
        "id": "52cb77fe-074c-4e0d-9ad5-20a99971afe7",
        "outputId": "24696719-b586-4afe-81bb-df01b67d6366"
      },
      "outputs": [
        {
          "output_type": "display_data",
          "data": {
            "text/plain": [
              "<Figure size 1000x400 with 1 Axes>"
            ],
            "image/png": "[encoded data removed]"
          },
          "metadata": {}
        }
      ],
      "source": [
        "plt.figure(figsize=(10, 4))\n",
        "plt.hist(numpy.concatenate([\n",
        "        # a mixture of 0.8 Beta(3, 3) and 0.2 Beta(20, 2)\n",
        "        scipy.stats.beta(3, 3).rvs(80000), \n",
        "        scipy.stats.beta(20, 2).rvs(20000)]), \n",
        "    bins=\"auto\")\n",
        "_=_"
      ]
    },
    {
      "cell_type": "markdown",
      "id": "d5f2f1f0-25b0-4c31-baf2-f35fc5e24b5d",
      "metadata": {
        "id": "d5f2f1f0-25b0-4c31-baf2-f35fc5e24b5d"
      },
      "source": [
        "The second line above specifies the _conditional distribution_ of observations given $p$, in our case we state that observations are independent, and Bernoulli-distributed. Bernoulli-distributed variables can be either 0 or 1, and the portion of 1s is specified by $p$:"
      ]
    },
    {
      "cell_type": "code",
      "execution_count": 9,
      "id": "d1522105-2971-491c-affb-4ba53e0291d1",
      "metadata": {
        "tags": [],
        "colab": {
          "base_uri": "https://localhost:8080/",
          "height": 368
        },
        "id": "d1522105-2971-491c-affb-4ba53e0291d1",
        "outputId": "55922286-d83d-4694-f871-1604ee17b677"
      },
      "outputs": [
        {
          "output_type": "display_data",
          "data": {
            "text/plain": [
              "<Figure size 1000x400 with 1 Axes>"
            ],
            "image/png": "[encoded data removed]"
          },
          "metadata": {}
        }
      ],
      "source": [
        "plt.figure(figsize=(10, 4))\n",
        "plt.hist(scipy.stats.bernoulli(0.75).rvs(100000), bins=5, align='mid', density=True)\n",
        "plt.xticks([0, 1], [0, 1])\n",
        "_=_"
      ]
    },
    {
      "cell_type": "markdown",
      "id": "5267b811-c3a3-490f-9020-8d969a271aa5",
      "metadata": {
        "tags": [],
        "id": "5267b811-c3a3-490f-9020-8d969a271aa5"
      },
      "source": [
        "## Inference from scratch\n",
        "\n",
        "### T.O.C\n",
        "1. Analytical Solution\n",
        "2. MCMC_Metropolis Solution\n",
        "3. Domain  Solution\n",
        "\n",
        "1. Given a generative model, we want to approximate the posterior belief about $p$, which we will deote $p|\\pmb{o}$.  Commonly, $p|\\pmb{o}$ is approximate by a set of samples, say $10\\,000$ samples. \n",
        "2. Can plot a **histogram**, compute the $⟨p⟩$ and the standard deviation of $p$ .\n",
        "\n",
        "### Solution 1: Analytical Solution\n",
        "\n",
        "For inference, we need a function that computes the _joint probability_ of $p$ and $\\pmb{o}$. (Believe me we absolutely need it). For computational stability, we will compute everything in _log-space_, that is, instead of probabilities, we will operate on log probabilities."
      ]
    },
    {
      "cell_type": "markdown",
      "source": [
        "$\\Pr(p)\\Pr(o|p) = \\Pr(o, p)$\n",
        "\n",
        "$\\log \\Pr(p)\\Pr(o|p) = \\log \\Pr(p) + \\log \\Pr(o|p) = \\log \\Pr(o, p)$"
      ],
      "metadata": {
        "id": "J725nd8cAqmM"
      },
      "id": "J725nd8cAqmM"
    },
    {
      "cell_type": "code",
      "execution_count": 10,
      "id": "409ce571-4969-482c-bcf4-5cea51433832",
      "metadata": {
        "tags": [],
        "id": "409ce571-4969-482c-bcf4-5cea51433832"
      },
      "outputs": [],
      "source": [
        "def logprob_robot(p, obs):\n",
        "    \"\"\"Computes log probability of p and os occurring together.\n",
        "    Returns the log probability.\n",
        "    \"\"\"\n",
        "    logprob = scipy.stats.beta(1, 1).logpdf(p)    # the log probability of p given our prior belief\n",
        "    for o in obs:\n",
        "        logprob += scipy.stats.bernoulli(p).logpmf(o)\n",
        "    return logprob"
      ]
    },
    {
      "cell_type": "markdown",
      "source": [
        "$$P(p|o) = \\frac {P(p)P(o|p)} {P(o)} = \\frac {P(p, o)} {P(o)}$$"
      ],
      "metadata": {
        "id": "bK0zCL_HDA9H"
      },
      "id": "bK0zCL_HDA9H"
    },
    {
      "cell_type": "markdown",
      "id": "a47583c4-4a50-4ee1-9bb1-c418f6d63d10",
      "metadata": {
        "id": "a47583c4-4a50-4ee1-9bb1-c418f6d63d10"
      },
      "source": [
        "Different 'guesses\" of $p$ will yield different joint log probability"
      ]
    },
    {
      "cell_type": "code",
      "execution_count": 11,
      "id": "fade9696-3fcf-41cc-ad43-f702eb4806bf",
      "metadata": {
        "tags": [],
        "id": "fade9696-3fcf-41cc-ad43-f702eb4806bf",
        "colab": {
          "base_uri": "https://localhost:8080/"
        },
        "outputId": "7195f624-b6ce-489d-c0be-8246de0bf183"
      },
      "outputs": [
        {
          "output_type": "stream",
          "name": "stdout",
          "text": [
            "logprob(0.5, os) = -6.93, logprob(0.6, os) = -6.73, logprob(0.8, os) = -7.78\n"
          ]
        }
      ],
      "source": [
        "print(f\"logprob(0.5, os) = {logprob_robot(0.5, OBSERVATIONS):.2f}, \"\n",
        "      f\"logprob(0.6, os) = {logprob_robot(0.6, OBSERVATIONS):.2f}, \"\n",
        "      f\"logprob(0.8, os) = {logprob_robot(0.8, OBSERVATIONS):.2f}\")\n"
      ]
    },
    {
      "cell_type": "markdown",
      "id": "5f7db39c-625f-4d0e-89ba-e083750e420d",
      "metadata": {
        "tags": [],
        "id": "5f7db39c-625f-4d0e-89ba-e083750e420d"
      },
      "source": [
        "### DIY Markov chain Monte Carlo inference"
      ]
    },
    {
      "cell_type": "markdown",
      "id": "433196a0-5df2-4e85-9a57-cfad52882f5e",
      "metadata": {
        "id": "433196a0-5df2-4e85-9a57-cfad52882f5e"
      },
      "source": [
        "So, intuitively, we want to call `logprob_robot` with many different values of $p$ and weight all those different values according to the return value of `logprob_robot`. Efficient algorithms for this task are called [Markov chain Monte Carlo](https://en.wikipedia.org/wiki/Markov_chain_Monte_Carlo). We can implement the simplest version in just a few lines of code, using the [Metropolis algorithm](https://en.wikipedia.org/wiki/Metropolis%E2%80%93Hastings_algorithm)."
      ]
    },
    {
      "cell_type": "code",
      "execution_count": 12,
      "id": "a2ec3735-e0d8-481f-9b66-9ed4902efbf8",
      "metadata": {
        "tags": [],
        "id": "a2ec3735-e0d8-481f-9b66-9ed4902efbf8"
      },
      "outputs": [],
      "source": [
        "def mcmc(logprob, proposal):\n",
        "    \"\"\"Implements the Metropolis MCMC algorithm.\n",
        "    Accepts the logprob function and the proposal distribution, yields the samples.\n",
        "    \"\"\"\n",
        "    p = proposal()\n",
        "    l = logprob(p)\n",
        "    while True:\n",
        "        p_ = proposal()\n",
        "        l_ = logprob(p_)\n",
        "        if l_ >= l:\n",
        "            l = l_\n",
        "            p = p_\n",
        "        else:\n",
        "            threshold = numpy.log(numpy.random.rand())\n",
        "            if l_ - l > threshold:\n",
        "                l = l_\n",
        "                p = p_\n",
        "        yield p      "
      ]
    },
    {
      "cell_type": "markdown",
      "id": "820f5ee5-6617-41dc-a4e7-314026595177",
      "metadata": {
        "id": "820f5ee5-6617-41dc-a4e7-314026595177"
      },
      "source": [
        "First, we generate samples lazily:"
      ]
    },
    {
      "cell_type": "code",
      "execution_count": 13,
      "id": "09ae586c-a045-436c-a336-f69c90351b4f",
      "metadata": {
        "tags": [],
        "id": "09ae586c-a045-436c-a336-f69c90351b4f"
      },
      "outputs": [],
      "source": [
        "samples = mcmc(lambda p: logprob_robot(p, OBSERVATIONS), scipy.stats.beta(1, 1).rvs)"
      ]
    },
    {
      "cell_type": "markdown",
      "id": "b5e4a477-dab8-446f-8523-58b11395edea",
      "metadata": {
        "tags": [],
        "id": "b5e4a477-dab8-446f-8523-58b11395edea"
      },
      "source": [
        "And then collect as many samples as we think we need to approximate the posterior."
      ]
    },
    {
      "cell_type": "code",
      "execution_count": 14,
      "id": "cfe29cb0-6945-4b89-bd88-b47e757b498d",
      "metadata": {
        "tags": [],
        "id": "cfe29cb0-6945-4b89-bd88-b47e757b498d"
      },
      "outputs": [],
      "source": [
        "p_post = [next(samples) for _ in range(10000)]"
      ]
    },
    {
      "cell_type": "markdown",
      "id": "a8e31ce2-ed2e-43f0-bec1-fbd9d5aa980e",
      "metadata": {
        "id": "a8e31ce2-ed2e-43f0-bec1-fbd9d5aa980e"
      },
      "source": [
        "Despite having collected only a relatively small number of samples, we manage to approximate the posterior quite well:"
      ]
    },
    {
      "cell_type": "code",
      "execution_count": 15,
      "id": "f5ced025-bc76-4b65-a2c6-3465b9e7f81c",
      "metadata": {
        "tags": [],
        "id": "f5ced025-bc76-4b65-a2c6-3465b9e7f81c",
        "colab": {
          "base_uri": "https://localhost:8080/",
          "height": 410
        },
        "outputId": "47022b84-d13b-4599-86cf-9f8e96b9076f"
      },
      "outputs": [
        {
          "data": {
            "image/png": "[encoded data removed]",
            "text/plain": [
              "<Figure size 1000x400 with 1 Axes>"
            ]
          },
          "metadata": {},
          "output_type": "display_data"
        }
      ],
      "source": [
        "plt.figure(figsize=(10, 4))\n",
        "plt.title(\"posterior\")\n",
        "plt.xlabel(\"p\")\n",
        "plt.hist(p_post, bins=\"auto\", density=True, label=\"approximate\")\n",
        "plt.hist(Dp.rvs(100000), histtype=\"step\", lw=2, bins=\"auto\", density=True, label=\"true\")\n",
        "plt.legend()\n",
        "_=_"
      ]
    },
    {
      "cell_type": "markdown",
      "source": [],
      "metadata": {
        "id": "jTk5bF1Qme49"
      },
      "id": "jTk5bF1Qme49"
    },
    {
      "cell_type": "code",
      "source": [
        "## "
      ],
      "metadata": {
        "id": "Y4wj8U7mmds3"
      },
      "id": "Y4wj8U7mmds3",
      "execution_count": null,
      "outputs": []
    },
    {
      "cell_type": "markdown",
      "id": "255e0413-79af-4f19-a0e8-425bd7743fae",
      "metadata": {
        "id": "255e0413-79af-4f19-a0e8-425bd7743fae"
      },
      "source": [
        "However, this solution is not quite welcoming. \n",
        "\n",
        "1. We had to code the joint probability by hand. It was manageable for our simple model, but not trivial for anything even slightly more complicated.\n",
        "1. We had to code the inference algorithm by hand. Our algorithm looks 'general', but at the cost of being extremely inefficient with anything but single-variable models with bounded support.\n",
        "1. We guessed the number of samples we need, and, because we know what the right answer would be, we know our guess was good enough. In real models, we obviously do not know the right answer, and need a way to assess _convergence_ of our inference."
      ]
    },
    {
      "cell_type": "markdown",
      "id": "b28486f9-b2e1-4719-be3b-fedddbeae80e",
      "metadata": {
        "tags": [],
        "id": "b28486f9-b2e1-4719-be3b-fedddbeae80e"
      },
      "source": [
        "## Generative modelling with NumPyro\n",
        "\n",
        "[NumPyro](https://num.pyro.ai) is a library for generative modelling and inference in Python. It is a handy tool to solve problems like ours, and works well with hundreds of latent variables (like our $p$) and elaborated generative models. \n",
        "\n",
        "We will now reimplement our solution in NumPyro. "
      ]
    },
    {
      "cell_type": "code",
      "execution_count": 16,
      "id": "01dc5886-9161-4c21-913b-045ca1c31dd4",
      "metadata": {
        "tags": [],
        "id": "01dc5886-9161-4c21-913b-045ca1c31dd4"
      },
      "outputs": [],
      "source": [
        "import numpyro\n",
        "import numpyro.distributions as dist\n",
        "import jax\n",
        "import time"
      ]
    },
    {
      "cell_type": "markdown",
      "id": "d2a6e347-298d-4bab-ae22-a3244e3ae732",
      "metadata": {
        "id": "d2a6e347-298d-4bab-ae22-a3244e3ae732"
      },
      "source": [
        "### Generative model\n",
        "\n",
        "First thing NumPyro provides is a [DSL](https://en.wikipedia.org/wiki/Domain-specific_language) for specifying generative models. Instead of writing the joint probability function, we can just re-write the statistical definition of the model, only in Python."
      ]
    },
    {
      "cell_type": "markdown",
      "id": "20b96345-ddba-4818-bfa7-e317cffc1cbd",
      "metadata": {
        "tags": [],
        "id": "20b96345-ddba-4818-bfa7-e317cffc1cbd"
      },
      "source": [
        "```python\n",
        "def robot(observations):\n",
        "    # p ~ Beta(1, 1)\n",
        "    p = numpyro.sample(\"p\", dist.Beta(1, 1))\n",
        "    with numpyro.plate(\"obs\", len(obs)):\n",
        "        # o ~ Bernoulli(p)\n",
        "        numpyro.sample(\"o\", dist.Bernoulli(p), obs=observations)\n",
        "```"
      ]
    },
    {
      "cell_type": "markdown",
      "id": "7ea60bfe-2e42-4333-9725-4cbf09182330",
      "metadata": {
        "id": "7ea60bfe-2e42-4333-9725-4cbf09182330"
      },
      "source": [
        "The model above is a complete NumPyro model, suitable for inference. Behind the scenes, it computes the joint log probability, but it looks just like the statistical generative model.\n",
        "\n",
        "We could use the model as implemented, but to be able to do a bit more _automatically_, we want to be able to call the model without observations — to simulate model's predictions before any data is seen (this is called _predictive prior_)."
      ]
    },
    {
      "cell_type": "code",
      "execution_count": 17,
      "id": "33feb85c-7ace-4444-9bca-20a900b52790",
      "metadata": {
        "tags": [],
        "id": "33feb85c-7ace-4444-9bca-20a900b52790"
      },
      "outputs": [],
      "source": [
        "def robot(obs=None, nobs=len(OBSERVATIONS)):\n",
        "    \"\"\"Robot model with NumPyro.\n",
        "    \"\"\"\n",
        "    if obs is not None:  # we want to pass None to obs if \n",
        "        nobs = len(obs)\n",
        "    # p ~ Beta(1, 1)\n",
        "    p = numpyro.sample(\"p\", dist.Beta(1, 1))\n",
        "    with numpyro.plate(\"obs\", len(obs) if obs is not None else nobs):\n",
        "        # o ~ Bernoulli(p)\n",
        "        numpyro.sample(\"o\", dist.Bernoulli(p), obs=obs)"
      ]
    },
    {
      "cell_type": "markdown",
      "id": "47ab61e9-ca08-400d-9fd7-e13b86b87a3f",
      "metadata": {
        "id": "47ab61e9-ca08-400d-9fd7-e13b86b87a3f"
      },
      "source": [
        "### Prior predictive\n",
        "\n",
        "The first step we want to perform with any model is to examine its prior predictive, that is, the kind of observations this model is in general able to 'imagine'. NumPyro provides class `Predictive` for this purpose."
      ]
    },
    {
      "cell_type": "code",
      "execution_count": 18,
      "id": "e65a931d-a82f-4405-8d11-5a56d73dd952",
      "metadata": {
        "tags": [],
        "colab": {
          "base_uri": "https://localhost:8080/",
          "height": 332
        },
        "id": "e65a931d-a82f-4405-8d11-5a56d73dd952",
        "outputId": "229c89a9-2ca3-4bdb-ee98-ac15bcab8a1e"
      },
      "outputs": [
        {
          "metadata": {
            "tags": null
          },
          "name": "stderr",
          "output_type": "stream",
          "text": [
            "WARNING:jax._src.xla_bridge:No GPU/TPU found, falling back to CPU. (Set TF_CPP_MIN_LOG_LEVEL=0 and rerun for more info.)\n"
          ]
        },
        {
          "data": {
            "image/png": "[encoded data removed]",
            "text/plain": [
              "<Figure size 1500x300 with 1 Axes>"
            ]
          },
          "metadata": {},
          "output_type": "display_data"
        }
      ],
      "source": [
        "prior_predictive = numpyro.infer.Predictive(robot, num_samples=10000)\n",
        "prior_samples = prior_predictive(jax.random.PRNGKey(int(time.time() * 1E6)))\n",
        "\n",
        "plt.figure(figsize=(15, 3))\n",
        "plt.xlim(-1, len(OBSERVATIONS)+1)\n",
        "plt.hist([sum(o) for o in prior_samples['o']], density=True, bins=len(OBSERVATIONS)*2+1, label=\"imaginations\")\n",
        "plt.axvline(sum(OBSERVATIONS), color=\"red\", lw=2, label=\"observation\")\n",
        "plt.title(\"prior predictive\")\n",
        "plt.legend()\n",
        "_=_"
      ]
    },
    {
      "cell_type": "markdown",
      "id": "0c4753ca-06ec-475e-b650-f28e027c5755",
      "metadata": {
        "id": "0c4753ca-06ec-475e-b650-f28e027c5755"
      },
      "source": [
        "The above plot of prior predictive helps us analyse our model even before we performed any inference. The actual observation (number of successes out number of trials) is _well covered by the prior_. This means that, given this observation, the model will be able to infer the posterior reasonably efficiently. If, for example, the prior mass on the actual observation were very small, such as if the prior were $\\mathrm{Beta(1, 10)}$, our model would be _misspecified_, and the inference would not work well."
      ]
    },
    {
      "cell_type": "markdown",
      "id": "e49b2941-05b0-4cf3-acb4-8a254f31c3e4",
      "metadata": {
        "tags": [],
        "id": "e49b2941-05b0-4cf3-acb4-8a254f31c3e4"
      },
      "source": [
        "### Inference\n",
        "\n",
        "NumPyro supplies efficient MCMC inference algorithms. A default choice is called [NUTS](https://arxiv.org/abs/1111.4246).  NumPyro's NUTS is both much faster and much better converging inference algorithm than the naive version of MCMC we wrote earlier."
      ]
    },
    {
      "cell_type": "code",
      "execution_count": 19,
      "id": "21afad38-f633-4d91-b3b0-1f296661f69c",
      "metadata": {
        "tags": [],
        "id": "21afad38-f633-4d91-b3b0-1f296661f69c",
        "colab": {
          "base_uri": "https://localhost:8080/"
        },
        "outputId": "d6215ba7-8f53-47a3-8073-103cd0193e3f"
      },
      "outputs": [
        {
          "output_type": "stream",
          "name": "stderr",
          "text": [
            "<ipython-input-19-dbcb2c3cc82c>:2: UserWarning: There are not enough devices to run parallel chains: expected 4 but got 1. Chains will be drawn sequentially. If you are running MCMC in CPU, consider using `numpyro.set_host_device_count(4)` at the beginning of your program. You can double-check how many devices are available in your system using `jax.local_device_count()`.\n",
            "  mcmc = numpyro.infer.MCMC(\n",
            "sample: 100%|██████████| 5500/5500 [00:05<00:00, 1025.77it/s, 3 steps of size 8.55e-01. acc. prob=0.95]\n",
            "sample: 100%|██████████| 5500/5500 [00:02<00:00, 2516.68it/s, 3 steps of size 1.02e+00. acc. prob=0.93]\n",
            "sample: 100%|██████████| 5500/5500 [00:02<00:00, 2510.32it/s, 3 steps of size 8.49e-01. acc. prob=0.94]\n",
            "sample: 100%|██████████| 5500/5500 [00:02<00:00, 2553.95it/s, 3 steps of size 1.13e+00. acc. prob=0.92]\n"
          ]
        }
      ],
      "source": [
        "nuts_kernel = numpyro.infer.NUTS(robot)\n",
        "mcmc = numpyro.infer.MCMC(\n",
        "    nuts_kernel,\n",
        "    num_warmup=500,\n",
        "    num_chains=4,\n",
        "    num_samples=5000)\n",
        "\n",
        "mcmc.run(jax.random.PRNGKey(int(time.time() * 1E6)), obs=jax.numpy.array(OBSERVATIONS))"
      ]
    },
    {
      "cell_type": "markdown",
      "id": "3055a5f3-0561-459a-ba13-26c8e7bd2702",
      "metadata": {
        "id": "3055a5f3-0561-459a-ba13-26c8e7bd2702"
      },
      "source": [
        "When the algorithm finished running, the first thing we want to check is whether the inference results are informative. For this purpose, we \n",
        "\n",
        "1. Run several (4) Monte Carlo chains.\n",
        "2. Print and review summary statistics of the samples in the chains."
      ]
    },
    {
      "cell_type": "code",
      "execution_count": 20,
      "id": "f3e33fbc-fe16-4a9a-9adc-b023eb8d55a9",
      "metadata": {
        "tags": [],
        "id": "f3e33fbc-fe16-4a9a-9adc-b023eb8d55a9",
        "colab": {
          "base_uri": "https://localhost:8080/"
        },
        "outputId": "97902b9e-3700-4af5-b13f-74c5508e8a55"
      },
      "outputs": [
        {
          "output_type": "stream",
          "name": "stdout",
          "text": [
            "\n",
            "                mean       std    median      5.0%     95.0%     n_eff     r_hat\n",
            "         p      0.58      0.14      0.59      0.36      0.81   7651.42      1.00\n",
            "\n",
            "Number of divergences: 0\n"
          ]
        }
      ],
      "source": [
        "mcmc.print_summary()"
      ]
    },
    {
      "cell_type": "markdown",
      "id": "9ec30831-dd33-40e2-9574-39aaed4b4e7b",
      "metadata": {
        "id": "9ec30831-dd33-40e2-9574-39aaed4b4e7b"
      },
      "source": [
        "The two important numbers here are the number of effective samples `n_eff` ($N_{eff}$) and the metric called `r_hat` ($\\hat R$). \n",
        "1. $N_{eff}$ estimates how many 'independent'  samples we got in the posterior. The way MCMC works, we may get 10000 samples which are all have the same or very close values, and do not approximate the posterior well. \n",
        "2. [$\\hat R$](https://mc-stan.org/rstan/reference/Rhat.html) compares correlation with the same chain and among different chains. MCMC is a random algorithm, and different Markov chains may behave differently. We want the model to be good enough, and to run it for long enough, so that different chains 'forget' about their starting points and converge to the same random behavior. if $\\hat R$ is close to 1, then we are fine. If $\\hat R$ is greater than 1.1, we should discard the posterior and look for ways to improve the converged, either through a longer warmup, or by modifying the model.\n",
        "\n",
        "Our model is small and simple, so the inference has come out well, but you are welcome to ‘break’ the model or the inference to get pathological values of $N_{eff}$ or $\\hat R$, just for fun and education."
      ]
    },
    {
      "cell_type": "markdown",
      "id": "42e173ac-61ed-465e-93f4-2e9d30cca3a3",
      "metadata": {
        "tags": [],
        "id": "42e173ac-61ed-465e-93f4-2e9d30cca3a3"
      },
      "source": [
        "### Posterior\n",
        "\n",
        "The first thing we want to show is, just in our DIY solution, the posterior distribution of $p$. The inferred posterior approximates quite well the true posterior, which is quite expected."
      ]
    },
    {
      "cell_type": "code",
      "execution_count": 21,
      "id": "4808cf4d-f6c7-4683-a65d-971defcf9db6",
      "metadata": {
        "tags": [],
        "id": "4808cf4d-f6c7-4683-a65d-971defcf9db6",
        "colab": {
          "base_uri": "https://localhost:8080/",
          "height": 410
        },
        "outputId": "2c3b172b-0aeb-493b-e785-69426fc39471"
      },
      "outputs": [
        {
          "output_type": "display_data",
          "data": {
            "text/plain": [
              "<Figure size 1000x400 with 1 Axes>"
            ],
            "image/png": "[encoded data removed]"
          },
          "metadata": {}
        }
      ],
      "source": [
        "plt.figure(figsize=(10, 4))\n",
        "plt.title(\"posterior\")\n",
        "plt.xlabel(\"p\")\n",
        "plt.hist(mcmc.get_samples()['p'], density=True, bins=\"auto\", label=\"approximate\")\n",
        "plt.hist(Dp.rvs(100000), histtype=\"step\", lw=2, bins=\"auto\", density=True, label=\"true\")\n",
        "plt.legend()\n",
        "_=__=_"
      ]
    },
    {
      "cell_type": "markdown",
      "id": "c785cdbf-1b47-4e2d-8301-fe4ddb42888d",
      "metadata": {
        "tags": [],
        "id": "c785cdbf-1b47-4e2d-8301-fe4ddb42888d"
      },
      "source": [
        "###  Posterior predictive\n",
        "\n",
        "In reality though, we won't be able to check the approximate posterior by comparing to the true one (we do not know the true one). So, we should fine another way to check that the model converged to something reasonable. We can do this using _posterior predictive_.\n",
        "\n",
        "We generate the posterior predictive using the same tool as we used for prior predictive, only instead of sampling $p$ from the prior we use the posterior samples of $p$. Technically, this is achieved by passing `posterior_samples` to `Predictive`."
      ]
    },
    {
      "cell_type": "code",
      "execution_count": 22,
      "id": "158b057e-3195-488c-b52e-488771316223",
      "metadata": {
        "tags": [],
        "id": "158b057e-3195-488c-b52e-488771316223"
      },
      "outputs": [],
      "source": [
        "posterior_predictive = numpyro.infer.Predictive(robot, posterior_samples=mcmc.get_samples())\n",
        "posterior_samples = posterior_predictive(jax.random.PRNGKey(int(time.time() * 1E6)))"
      ]
    },
    {
      "cell_type": "code",
      "execution_count": 23,
      "id": "6c11e1eb-1acc-4b97-ad38-6f33b05fb897",
      "metadata": {
        "tags": [],
        "id": "6c11e1eb-1acc-4b97-ad38-6f33b05fb897",
        "colab": {
          "base_uri": "https://localhost:8080/",
          "height": 314
        },
        "outputId": "227d2026-00ec-4e97-fa1a-f162ccef192d"
      },
      "outputs": [
        {
          "output_type": "display_data",
          "data": {
            "text/plain": [
              "<Figure size 1500x300 with 1 Axes>"
            ],
            "image/png": "[encoded data removed]"
          },
          "metadata": {}
        }
      ],
      "source": [
        "plt.figure(figsize=(15, 3))\n",
        "plt.xlim(-1, len(OBSERVATIONS)+1)\n",
        "plt.hist([sum(o) for o in posterior_samples['o']], density=True, bins=len(OBSERVATIONS)*2+1, label=\"imaginations\")\n",
        "plt.axvline(sum(OBSERVATIONS), color=\"red\", lw=2, label=\"observation\")\n",
        "plt.title(\"posterior predictive\")\n",
        "plt.legend()\n",
        "_=_"
      ]
    },
    {
      "cell_type": "markdown",
      "id": "ed7eb9b0-7ecd-4c9b-a108-4d996ebc8a0b",
      "metadata": {
        "id": "ed7eb9b0-7ecd-4c9b-a108-4d996ebc8a0b"
      },
      "source": [
        "The above plot looks fine: the imaginations are concentrated around the observation, with  the maximum mass near the observation. We can formalize this by computing the ‘p-value’ of the observation given the predictive posterior, that is, the probability that an imagined observation is greater (or smaller) than the actual one:"
      ]
    },
    {
      "cell_type": "code",
      "execution_count": 24,
      "id": "0867da31-7472-4d33-816b-05fb7bc83fc2",
      "metadata": {
        "tags": [],
        "id": "0867da31-7472-4d33-816b-05fb7bc83fc2",
        "colab": {
          "base_uri": "https://localhost:8080/"
        },
        "outputId": "fbbf2f0f-6d78-4f27-d1a6-2296cce34039"
      },
      "outputs": [
        {
          "output_type": "stream",
          "name": "stdout",
          "text": [
            "p_value = 0.573\n"
          ]
        }
      ],
      "source": [
        "p_value = sum(posterior_samples['o'].sum(axis=1) >= sum(OBSERVATIONS))/len(posterior_samples['o'])\n",
        "print(f\"p_value = {p_value:.3f}\")"
      ]
    },
    {
      "cell_type": "markdown",
      "id": "057a1a26-b2a8-49e8-a8f6-2b9931acbe86",
      "metadata": {
        "id": "057a1a26-b2a8-49e8-a8f6-2b9931acbe86"
      },
      "source": [
        "Depending on how strong the prior is and how much data we have, p_value between 0.3 and 0.7 is an indication that our posterior is fine. Extreme values, like 0.1 or 0.9 or more extreme, point at a problem in the model."
      ]
    },
    {
      "cell_type": "markdown",
      "id": "cf333a90-a088-4d5f-9453-e864f4461320",
      "metadata": {
        "id": "cf333a90-a088-4d5f-9453-e864f4461320"
      },
      "source": [
        "---------------------------------------\n",
        "This completes the first part of the tutorial. In the second part we will deal with model evaluation, extension, and comparison of the basic and extended model."
      ]
    }
  ],
  "metadata": {
    "kernelspec": {
      "display_name": "Python 3 (ipykernel)",
      "language": "python",
      "name": "python3"
    },
    "language_info": {
      "codemirror_mode": {
        "name": "ipython",
        "version": 3
      },
      "file_extension": ".py",
      "mimetype": "text/x-python",
      "name": "python",
      "nbconvert_exporter": "python",
      "pygments_lexer": "ipython3",
      "version": "3.11.2"
    },
    "colab": {
      "provenance": []
    }
  },
  "nbformat": 4,
  "nbformat_minor": 5
}